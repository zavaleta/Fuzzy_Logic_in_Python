{
  "nbformat": 4,
  "nbformat_minor": 0,
  "metadata": {
    "colab": {
      "name": "Fuzzy_logic_in_Python.ipynb",
      "version": "0.3.2",
      "provenance": [],
      "include_colab_link": true
    },
    "kernelspec": {
      "name": "python3",
      "display_name": "Python 3"
    }
  },
  "cells": [
    {
      "cell_type": "markdown",
      "metadata": {
        "id": "view-in-github",
        "colab_type": "text"
      },
      "source": [
        "<a href=\"https://colab.research.google.com/github/zavaleta/Fuzzy_Logic_in_Python/blob/master/Fuzzy_logic_in_Python.ipynb\" target=\"_parent\"><img src=\"https://colab.research.google.com/assets/colab-badge.svg\" alt=\"Open In Colab\"/></a>"
      ]
    },
    {
      "metadata": {
        "id": "T-BM2B7Q_eFG",
        "colab_type": "text"
      },
      "cell_type": "markdown",
      "source": [
        "# Fuzzy logic in Python"
      ]
    },
    {
      "metadata": {
        "id": "np0Y0Ypu_mJ7",
        "colab_type": "text"
      },
      "cell_type": "markdown",
      "source": [
        "### by Jorge Zavaleta, PhD."
      ]
    },
    {
      "metadata": {
        "id": "jI9HV6rP_t3K",
        "colab_type": "text"
      },
      "cell_type": "markdown",
      "source": [
        "### Install of scikit-fuzzy"
      ]
    },
    {
      "metadata": {
        "id": "ayadbL48_VLl",
        "colab_type": "code",
        "colab": {
          "base_uri": "https://localhost:8080/",
          "height": 258
        },
        "outputId": "02a552d1-ca85-4b6f-d459-580171e21099"
      },
      "cell_type": "code",
      "source": [
        "!pip install -U scikit-fuzzy"
      ],
      "execution_count": 1,
      "outputs": [
        {
          "output_type": "stream",
          "text": [
            "Collecting scikit-fuzzy\n",
            "\u001b[?25l  Downloading https://files.pythonhosted.org/packages/e5/30/aaf5bfdcc6b7362d753ae811ca131ecbc434c4ba665a581a7ad7b2288d45/scikit-fuzzy-0.4.1.tar.gz (993kB)\n",
            "\u001b[K    100% |████████████████████████████████| 1.0MB 22.5MB/s \n",
            "\u001b[?25hRequirement already satisfied, skipping upgrade: numpy>=1.6.0 in /usr/local/lib/python3.6/dist-packages (from scikit-fuzzy) (1.16.2)\n",
            "Requirement already satisfied, skipping upgrade: scipy>=0.9.0 in /usr/local/lib/python3.6/dist-packages (from scikit-fuzzy) (1.2.1)\n",
            "Requirement already satisfied, skipping upgrade: networkx>=1.9.0 in /usr/local/lib/python3.6/dist-packages (from scikit-fuzzy) (2.3)\n",
            "Requirement already satisfied, skipping upgrade: decorator>=4.3.0 in /usr/local/lib/python3.6/dist-packages (from networkx>=1.9.0->scikit-fuzzy) (4.4.0)\n",
            "Building wheels for collected packages: scikit-fuzzy\n",
            "  Building wheel for scikit-fuzzy (setup.py) ... \u001b[?25ldone\n",
            "\u001b[?25h  Stored in directory: /root/.cache/pip/wheels/9d/f9/0e/a8de3e98e64bbf828f5e762936ff5a40e72331dbe663470711\n",
            "Successfully built scikit-fuzzy\n",
            "Installing collected packages: scikit-fuzzy\n",
            "Successfully installed scikit-fuzzy-0.4.1\n"
          ],
          "name": "stdout"
        }
      ]
    },
    {
      "metadata": {
        "id": "VkzPLSzkAKdV",
        "colab_type": "code",
        "colab": {}
      },
      "cell_type": "code",
      "source": [
        "############ Testando a instalação\n",
        "# importando a biblioteca de \"arrays\" numéricos\n",
        "import numpy as np\n",
        "# importando a biblioteca fuzzy\n",
        "import skfuzzy as fuzzy\n",
        "# importando a biblioteca para os gráficos\n",
        "import matplotlib.pyplot as plt"
      ],
      "execution_count": 0,
      "outputs": []
    },
    {
      "metadata": {
        "id": "SFTIqro8AhgQ",
        "colab_type": "code",
        "colab": {
          "base_uri": "https://localhost:8080/",
          "height": 34
        },
        "outputId": "5cf8b0a0-a080-4276-e9e6-09665fc44121"
      },
      "cell_type": "code",
      "source": [
        "# Testando o funcionamento de numpy\n",
        "x = np.arange(11) # gerando um array de 11 valores\n",
        "# visualizando os valores gerados e guardados em x\n",
        "x"
      ],
      "execution_count": 3,
      "outputs": [
        {
          "output_type": "execute_result",
          "data": {
            "text/plain": [
              "array([ 0,  1,  2,  3,  4,  5,  6,  7,  8,  9, 10])"
            ]
          },
          "metadata": {
            "tags": []
          },
          "execution_count": 3
        }
      ]
    },
    {
      "metadata": {
        "id": "aW_7S9K0Ap7d",
        "colab_type": "code",
        "colab": {
          "base_uri": "https://localhost:8080/",
          "height": 34
        },
        "outputId": "000115d9-83e1-4180-9f21-0b06aa08a27c"
      },
      "cell_type": "code",
      "source": [
        "# definindo uma função triangular (TRIMF) com a= 0, b=5, c= 10.\n",
        "mfx = fuzzy.trimf(x, [0, 5, 10])\n",
        "# visualizando os valores do triángulo\n",
        "mfx"
      ],
      "execution_count": 5,
      "outputs": [
        {
          "output_type": "execute_result",
          "data": {
            "text/plain": [
              "array([0. , 0.2, 0.4, 0.6, 0.8, 1. , 0.8, 0.6, 0.4, 0.2, 0. ])"
            ]
          },
          "metadata": {
            "tags": []
          },
          "execution_count": 5
        }
      ]
    },
    {
      "metadata": {
        "id": "9siRUSV8A4M7",
        "colab_type": "code",
        "colab": {
          "base_uri": "https://localhost:8080/",
          "height": 269
        },
        "outputId": "d873460a-861c-45de-91ef-16b356ee044d"
      },
      "cell_type": "code",
      "source": [
        "plt.plot(x,mfx,'r', linewidth=1.5, label='Triangular')\n",
        "plt.fill(x,mfx,'b', alpha=0.5)\n",
        "plt.legend()\n",
        "plt.show()"
      ],
      "execution_count": 7,
      "outputs": [
        {
          "output_type": "display_data",
          "data": {
            "image/png": "[encoded data removed]",
            "text/plain": [
              "<Figure size 432x288 with 1 Axes>"
            ]
          },
          "metadata": {
            "tags": []
          }
        }
      ]
    },
    {
      "metadata": {
        "id": "wOa3ltHZBU2q",
        "colab_type": "code",
        "colab": {
          "base_uri": "https://localhost:8080/",
          "height": 68
        },
        "outputId": "1088e8fc-896b-4a78-8bc9-19e1fa2736c4"
      },
      "cell_type": "code",
      "source": [
        "# definindo a função trapezoidal - trapmf com a=0, b= 4, c=7, d=10\n",
        "mft = fuzzy.trapmf(x,[0,4,7,10])\n",
        "mft"
      ],
      "execution_count": 8,
      "outputs": [
        {
          "output_type": "execute_result",
          "data": {
            "text/plain": [
              "array([0.        , 0.25      , 0.5       , 0.75      , 1.        ,\n",
              "       1.        , 1.        , 1.        , 0.66666667, 0.33333333,\n",
              "       0.        ])"
            ]
          },
          "metadata": {
            "tags": []
          },
          "execution_count": 8
        }
      ]
    },
    {
      "metadata": {
        "id": "mxLFFNtFBa8U",
        "colab_type": "code",
        "colab": {
          "base_uri": "https://localhost:8080/",
          "height": 269
        },
        "outputId": "4445af2e-25fa-45d0-d5c5-0272c2cefd52"
      },
      "cell_type": "code",
      "source": [
        "# graficando a função de pertinencia trapezoidal\n",
        "plt.plot(x,mft, 'g', linewidth=1.5, label='Trapezoidal')\n",
        "plt.fill(x,mft, 'y', alpha=0.5)\n",
        "plt.legend()\n",
        "plt.show()"
      ],
      "execution_count": 9,
      "outputs": [
        {
          "output_type": "display_data",
          "data": {
            "image/png": "[encoded data removed]",
            "text/plain": [
              "<Figure size 432x288 with 1 Axes>"
            ]
          },
          "metadata": {
            "tags": []
          }
        }
      ]
    },
    {
      "metadata": {
        "id": "bKb80SzrBrEo",
        "colab_type": "code",
        "colab": {}
      },
      "cell_type": "code",
      "source": [
        " # definido novos valores\n",
        "val = np.arange(-10,11)"
      ],
      "execution_count": 0,
      "outputs": []
    },
    {
      "metadata": {
        "id": "DyNCBnQdBxI8",
        "colab_type": "code",
        "colab": {
          "base_uri": "https://localhost:8080/",
          "height": 102
        },
        "outputId": "e2e4b5cd-d843-4c08-c0f4-1ff0d53190ee"
      },
      "cell_type": "code",
      "source": [
        "# definindo a função gaussiana - gaussmf\n",
        "mfg = fuzzy.gaussmf(val,0.2,5)\n",
        "mfg"
      ],
      "execution_count": 11,
      "outputs": [
        {
          "output_type": "execute_result",
          "data": {
            "text/plain": [
              "array([0.12483031, 0.18400359, 0.26059182, 0.35458755, 0.46356902,\n",
              "       0.58228224, 0.70271772, 0.81481026, 0.90773754, 0.97161077,\n",
              "       0.99920032, 0.98728157, 0.9372549 , 0.85487502, 0.74916202,\n",
              "       0.63077882, 0.5102778 , 0.39661073, 0.29617642, 0.21250282,\n",
              "       0.14648972])"
            ]
          },
          "metadata": {
            "tags": []
          },
          "execution_count": 11
        }
      ]
    },
    {
      "metadata": {
        "id": "uUv5AZMsB7IZ",
        "colab_type": "code",
        "colab": {
          "base_uri": "https://localhost:8080/",
          "height": 269
        },
        "outputId": "ea7831d9-045d-4b2e-cd48-899f0c669d9f"
      },
      "cell_type": "code",
      "source": [
        " # graficando a função de pertinencia gaussiana\n",
        "plt.plot(val,mfg,'b', linewidth=1.5, label='Gaussiana')\n",
        "plt.fill(val,mfg,'b',alpha=0.5)\n",
        "plt.legend()\n",
        "plt.show()"
      ],
      "execution_count": 12,
      "outputs": [
        {
          "output_type": "display_data",
          "data": {
            "image/png": "[encoded data removed]",
            "text/plain": [
              "<Figure size 432x288 with 1 Axes>"
            ]
          },
          "metadata": {
            "tags": []
          }
        }
      ]
    },
    {
      "metadata": {
        "id": "nFu-48IcCMU6",
        "colab_type": "code",
        "colab": {
          "base_uri": "https://localhost:8080/",
          "height": 119
        },
        "outputId": "27684358-de02-4440-a2bc-aff41744ebdd"
      },
      "cell_type": "code",
      "source": [
        "mfs = fuzzy.sigmf(val,2,10)\n",
        "mfs"
      ],
      "execution_count": 14,
      "outputs": [
        {
          "output_type": "execute_result",
          "data": {
            "text/plain": [
              "array([7.66764807e-53, 1.68891188e-48, 3.72007598e-44, 8.19401262e-40,\n",
              "       1.80485139e-35, 3.97544974e-31, 8.75651076e-27, 1.92874985e-22,\n",
              "       4.24835426e-18, 9.35762297e-14, 2.06115362e-09, 4.53978687e-05,\n",
              "       5.00000000e-01, 9.99954602e-01, 9.99999998e-01, 1.00000000e+00,\n",
              "       1.00000000e+00, 1.00000000e+00, 1.00000000e+00, 1.00000000e+00,\n",
              "       1.00000000e+00])"
            ]
          },
          "metadata": {
            "tags": []
          },
          "execution_count": 14
        }
      ]
    },
    {
      "metadata": {
        "id": "lQsQNaFxCMiA",
        "colab_type": "code",
        "colab": {
          "base_uri": "https://localhost:8080/",
          "height": 269
        },
        "outputId": "0873c85c-6b8f-4194-a6bc-186dc15584ae"
      },
      "cell_type": "code",
      "source": [
        "# graficando a função de pertinencia sigmoidal\n",
        "plt.plot(val,mfs,'r', linewidth=1.5, label='Sigmoidal')\n",
        "plt.fill(val,mfs, 'r',alpha=0.0)\n",
        "plt.legend()\n",
        "plt.show()"
      ],
      "execution_count": 17,
      "outputs": [
        {
          "output_type": "display_data",
          "data": {
            "image/png": "[encoded data removed]",
            "text/plain": [
              "<Figure size 432x288 with 1 Axes>"
            ]
          },
          "metadata": {
            "tags": []
          }
        }
      ]
    }
  ]
}